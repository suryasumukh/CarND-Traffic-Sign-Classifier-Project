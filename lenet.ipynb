{
 "cells": [
  {
   "cell_type": "code",
   "execution_count": 1,
   "metadata": {},
   "outputs": [
    {
     "name": "stderr",
     "output_type": "stream",
     "text": [
      "Using TensorFlow backend.\n"
     ]
    }
   ],
   "source": [
    "import pickle\n",
    "\n",
    "from keras.models import Model\n",
    "from keras.layers import Dense, Flatten, Reshape, Input\n",
    "from keras.layers import Conv2D, MaxPooling2D, GlobalAveragePooling2D\n",
    "from keras.optimizers import Adam\n",
    "\n",
    "import numpy as np\n",
    "from sklearn.preprocessing import LabelBinarizer"
   ]
  },
  {
   "cell_type": "code",
   "execution_count": 2,
   "metadata": {
    "collapsed": true
   },
   "outputs": [],
   "source": [
    "training_file = './data/train.p'\n",
    "validation_file = './data/valid.p'\n",
    "testing_file = './data/test.p'\n",
    "\n",
    "with open(training_file, mode='rb') as f:\n",
    "    train = pickle.load(f)\n",
    "with open(validation_file, mode='rb') as f:\n",
    "    valid = pickle.load(f)\n",
    "with open(testing_file, mode='rb') as f:\n",
    "    test = pickle.load(f)\n",
    "    \n",
    "X_train, y_train = train['features'], train['labels']\n",
    "X_valid, y_valid = valid['features'], valid['labels']\n",
    "X_test, y_test = test['features'], test['labels']"
   ]
  },
  {
   "cell_type": "code",
   "execution_count": 3,
   "metadata": {
    "collapsed": true
   },
   "outputs": [],
   "source": [
    "#X_train = (X_train-128)/128\n",
    "#X_valid = (X_valid-128)/128\n",
    "#X_test = (X_test-128)/128"
   ]
  },
  {
   "cell_type": "code",
   "execution_count": 4,
   "metadata": {},
   "outputs": [],
   "source": [
    "lb = LabelBinarizer().fit(np.hstack((y_train, y_valid, y_test)))\n",
    "y_train = lb.transform(y_train)\n",
    "y_valid = lb.transform(y_valid)\n",
    "y_test = lb.transform(y_test)"
   ]
  },
  {
   "cell_type": "code",
   "execution_count": 5,
   "metadata": {
    "collapsed": true
   },
   "outputs": [],
   "source": [
    "_input = Input(shape=(32, 32, 3))\n",
    "conv1 = Conv2D(filters=6, kernel_size=(5, 5), activation='relu', \n",
    "               strides=(1, 1), padding='valid')(_input)\n",
    "pool1 = MaxPooling2D(pool_size=2, strides=2, padding='same')(conv1)\n",
    "conv2 = Conv2D(filters=16, kernel_size=(5, 5), activation='relu',\n",
    "               strides=(1, 1), padding='valid')(pool1)\n",
    "pool2 = MaxPooling2D(pool_size=2, strides=2, padding='same')(conv2)\n",
    "flattened = Flatten()(pool2)\n",
    "fc1 = Dense(120, activation='relu')(flattened)\n",
    "fc2 = Dense(84, activation='relu')(fc1)\n",
    "output = Dense(43, activation='softmax')(fc2)"
   ]
  },
  {
   "cell_type": "code",
   "execution_count": 6,
   "metadata": {
    "collapsed": true
   },
   "outputs": [],
   "source": [
    "model = Model(inputs=[_input], outputs=[output])\n",
    "model.compile(optimizer=Adam(0.001), \n",
    "              loss='categorical_crossentropy',\n",
    "              metrics=['accuracy'])"
   ]
  },
  {
   "cell_type": "code",
   "execution_count": 7,
   "metadata": {},
   "outputs": [
    {
     "name": "stdout",
     "output_type": "stream",
     "text": [
      "_________________________________________________________________\n",
      "Layer (type)                 Output Shape              Param #   \n",
      "=================================================================\n",
      "input_1 (InputLayer)         (None, 32, 32, 3)         0         \n",
      "_________________________________________________________________\n",
      "conv2d_1 (Conv2D)            (None, 28, 28, 6)         456       \n",
      "_________________________________________________________________\n",
      "max_pooling2d_1 (MaxPooling2 (None, 14, 14, 6)         0         \n",
      "_________________________________________________________________\n",
      "conv2d_2 (Conv2D)            (None, 10, 10, 16)        2416      \n",
      "_________________________________________________________________\n",
      "max_pooling2d_2 (MaxPooling2 (None, 5, 5, 16)          0         \n",
      "_________________________________________________________________\n",
      "flatten_1 (Flatten)          (None, 400)               0         \n",
      "_________________________________________________________________\n",
      "dense_1 (Dense)              (None, 120)               48120     \n",
      "_________________________________________________________________\n",
      "dense_2 (Dense)              (None, 84)                10164     \n",
      "_________________________________________________________________\n",
      "dense_3 (Dense)              (None, 43)                3655      \n",
      "=================================================================\n",
      "Total params: 64,811\n",
      "Trainable params: 64,811\n",
      "Non-trainable params: 0\n",
      "_________________________________________________________________\n"
     ]
    }
   ],
   "source": [
    "model.summary()"
   ]
  },
  {
   "cell_type": "code",
   "execution_count": 8,
   "metadata": {},
   "outputs": [
    {
     "name": "stdout",
     "output_type": "stream",
     "text": [
      "Train on 34799 samples, validate on 4410 samples\n",
      "Epoch 1/50\n",
      "34799/34799 [==============================] - 27s - loss: 3.0434 - acc: 0.3910 - val_loss: 1.4336 - val_acc: 0.6392\n",
      "Epoch 2/50\n",
      "34799/34799 [==============================] - 29s - loss: 0.6522 - acc: 0.8222 - val_loss: 1.0221 - val_acc: 0.7855\n",
      "Epoch 3/50\n",
      "34799/34799 [==============================] - 30s - loss: 0.3177 - acc: 0.9144 - val_loss: 0.8464 - val_acc: 0.8317\n",
      "Epoch 4/50\n",
      "34799/34799 [==============================] - 27s - loss: 0.1938 - acc: 0.9482 - val_loss: 0.7975 - val_acc: 0.8499\n",
      "Epoch 5/50\n",
      "34799/34799 [==============================] - 27s - loss: 0.1392 - acc: 0.9635 - val_loss: 0.8949 - val_acc: 0.8615\n",
      "Epoch 6/50\n",
      "34799/34799 [==============================] - 27s - loss: 0.0971 - acc: 0.9749 - val_loss: 0.7554 - val_acc: 0.8744\n",
      "Epoch 7/50\n",
      "34799/34799 [==============================] - 30s - loss: 0.0808 - acc: 0.9786 - val_loss: 0.8613 - val_acc: 0.8617\n",
      "Epoch 8/50\n",
      "34799/34799 [==============================] - 26s - loss: 0.0598 - acc: 0.9843 - val_loss: 0.8240 - val_acc: 0.8748\n",
      "Epoch 9/50\n",
      "34799/34799 [==============================] - 26s - loss: 0.0531 - acc: 0.9863 - val_loss: 0.8843 - val_acc: 0.8601\n",
      "Epoch 10/50\n",
      "34799/34799 [==============================] - 29s - loss: 0.0466 - acc: 0.9880 - val_loss: 0.9345 - val_acc: 0.8717\n",
      "Epoch 11/50\n",
      "34799/34799 [==============================] - 30s - loss: 0.0427 - acc: 0.9888 - val_loss: 0.7466 - val_acc: 0.8832\n",
      "Epoch 12/50\n",
      "34799/34799 [==============================] - 29s - loss: 0.0432 - acc: 0.9888 - val_loss: 0.9210 - val_acc: 0.8841\n",
      "Epoch 13/50\n",
      "34799/34799 [==============================] - 26s - loss: 0.0463 - acc: 0.9875 - val_loss: 0.8298 - val_acc: 0.8878\n",
      "Epoch 14/50\n",
      "34799/34799 [==============================] - 30s - loss: 0.0361 - acc: 0.9904 - val_loss: 0.8781 - val_acc: 0.8789\n",
      "Epoch 15/50\n",
      "34799/34799 [==============================] - 27s - loss: 0.0449 - acc: 0.9888 - val_loss: 0.7185 - val_acc: 0.8973\n",
      "Epoch 16/50\n",
      "34799/34799 [==============================] - 26s - loss: 0.0266 - acc: 0.9925 - val_loss: 0.7631 - val_acc: 0.8971\n",
      "Epoch 17/50\n",
      "34799/34799 [==============================] - 26s - loss: 0.0339 - acc: 0.9916 - val_loss: 0.8344 - val_acc: 0.8905\n",
      "Epoch 18/50\n",
      "34799/34799 [==============================] - 26s - loss: 0.0447 - acc: 0.9888 - val_loss: 0.7300 - val_acc: 0.8927\n",
      "Epoch 19/50\n",
      "34799/34799 [==============================] - 26s - loss: 0.0249 - acc: 0.9941 - val_loss: 0.9022 - val_acc: 0.8975\n",
      "Epoch 20/50\n",
      "34799/34799 [==============================] - 26s - loss: 0.0239 - acc: 0.9943 - val_loss: 0.8142 - val_acc: 0.9029\n",
      "Epoch 21/50\n",
      "34799/34799 [==============================] - 27s - loss: 0.0293 - acc: 0.9923 - val_loss: 1.0642 - val_acc: 0.8723\n",
      "Epoch 22/50\n",
      "34799/34799 [==============================] - 26s - loss: 0.0285 - acc: 0.9928 - val_loss: 0.8627 - val_acc: 0.8934\n",
      "Epoch 23/50\n",
      "34799/34799 [==============================] - 28s - loss: 0.0192 - acc: 0.9955 - val_loss: 0.8179 - val_acc: 0.9050\n",
      "Epoch 24/50\n",
      "34799/34799 [==============================] - 30s - loss: 0.0369 - acc: 0.9915 - val_loss: 0.8438 - val_acc: 0.9014\n",
      "Epoch 25/50\n",
      "34799/34799 [==============================] - 27s - loss: 0.0478 - acc: 0.9886 - val_loss: 0.8773 - val_acc: 0.8959\n",
      "Epoch 26/50\n",
      "34799/34799 [==============================] - 27s - loss: 0.0291 - acc: 0.9932 - val_loss: 0.7870 - val_acc: 0.9023\n",
      "Epoch 27/50\n",
      "34799/34799 [==============================] - 26s - loss: 0.0285 - acc: 0.9934 - val_loss: 0.7372 - val_acc: 0.9054\n",
      "Epoch 28/50\n",
      "34799/34799 [==============================] - 25s - loss: 0.0453 - acc: 0.9896 - val_loss: 1.0029 - val_acc: 0.8737\n",
      "Epoch 29/50\n",
      "34799/34799 [==============================] - 25s - loss: 0.0446 - acc: 0.9893 - val_loss: 0.7472 - val_acc: 0.9025\n",
      "Epoch 30/50\n",
      "34799/34799 [==============================] - 25s - loss: 0.0271 - acc: 0.9939 - val_loss: 0.8496 - val_acc: 0.9023\n",
      "Epoch 31/50\n",
      "34799/34799 [==============================] - 25s - loss: 0.0120 - acc: 0.9972 - val_loss: 0.9496 - val_acc: 0.8961\n",
      "Epoch 32/50\n",
      "34799/34799 [==============================] - 25s - loss: 0.0184 - acc: 0.9955 - val_loss: 0.8270 - val_acc: 0.9059\n",
      "Epoch 33/50\n",
      "34799/34799 [==============================] - 26s - loss: 0.0165 - acc: 0.9957 - val_loss: 0.8162 - val_acc: 0.9073\n",
      "Epoch 34/50\n",
      "34799/34799 [==============================] - 27s - loss: 0.0195 - acc: 0.9955 - val_loss: 0.7553 - val_acc: 0.9098\n",
      "Epoch 35/50\n",
      "34799/34799 [==============================] - 27s - loss: 0.0269 - acc: 0.9941 - val_loss: 1.0239 - val_acc: 0.8918\n",
      "Epoch 36/50\n",
      "34799/34799 [==============================] - 25s - loss: 0.0304 - acc: 0.9932 - val_loss: 0.8280 - val_acc: 0.9093\n",
      "Epoch 37/50\n",
      "34799/34799 [==============================] - 30s - loss: 0.0310 - acc: 0.9927 - val_loss: 0.6984 - val_acc: 0.9172\n",
      "Epoch 38/50\n",
      "34799/34799 [==============================] - 29s - loss: 0.0196 - acc: 0.9961 - val_loss: 0.7525 - val_acc: 0.9041\n",
      "Epoch 39/50\n",
      "34799/34799 [==============================] - 26s - loss: 0.0171 - acc: 0.9960 - val_loss: 0.7569 - val_acc: 0.9141\n",
      "Epoch 40/50\n",
      "34799/34799 [==============================] - 27s - loss: 0.0186 - acc: 0.9963 - val_loss: 0.6239 - val_acc: 0.9197\n",
      "Epoch 41/50\n",
      "34799/34799 [==============================] - 27s - loss: 0.0245 - acc: 0.9949 - val_loss: 0.7883 - val_acc: 0.9100\n",
      "Epoch 42/50\n",
      "34799/34799 [==============================] - 31s - loss: 0.0202 - acc: 0.9955 - val_loss: 0.9886 - val_acc: 0.8909\n",
      "Epoch 43/50\n",
      "34799/34799 [==============================] - 30s - loss: 0.0442 - acc: 0.9907 - val_loss: 0.7301 - val_acc: 0.9077\n",
      "Epoch 44/50\n",
      "34799/34799 [==============================] - 25s - loss: 0.0449 - acc: 0.9907 - val_loss: 1.0036 - val_acc: 0.9045\n",
      "Epoch 45/50\n",
      "20480/34799 [================>.............] - ETA: 10s - loss: 0.0430 - acc: 0.9925"
     ]
    },
    {
     "ename": "KeyboardInterrupt",
     "evalue": "",
     "output_type": "error",
     "traceback": [
      "\u001b[0;31m---------------------------------------------------------------------------\u001b[0m",
      "\u001b[0;31mKeyboardInterrupt\u001b[0m                         Traceback (most recent call last)",
      "\u001b[0;32m<ipython-input-8-651bbf7f4692>\u001b[0m in \u001b[0;36m<module>\u001b[0;34m()\u001b[0m\n\u001b[1;32m      1\u001b[0m model.fit(X_train, y_train, epochs=50, batch_size=256, \n\u001b[0;32m----> 2\u001b[0;31m           validation_data=(X_valid, y_valid))\n\u001b[0m",
      "\u001b[0;32m~/Applications/anaconda3/envs/carnd-term1/lib/python3.5/site-packages/keras/engine/training.py\u001b[0m in \u001b[0;36mfit\u001b[0;34m(self, x, y, batch_size, epochs, verbose, callbacks, validation_split, validation_data, shuffle, class_weight, sample_weight, initial_epoch, steps_per_epoch, validation_steps, **kwargs)\u001b[0m\n\u001b[1;32m   1596\u001b[0m                               \u001b[0minitial_epoch\u001b[0m\u001b[0;34m=\u001b[0m\u001b[0minitial_epoch\u001b[0m\u001b[0;34m,\u001b[0m\u001b[0;34m\u001b[0m\u001b[0m\n\u001b[1;32m   1597\u001b[0m                               \u001b[0msteps_per_epoch\u001b[0m\u001b[0;34m=\u001b[0m\u001b[0msteps_per_epoch\u001b[0m\u001b[0;34m,\u001b[0m\u001b[0;34m\u001b[0m\u001b[0m\n\u001b[0;32m-> 1598\u001b[0;31m                               validation_steps=validation_steps)\n\u001b[0m\u001b[1;32m   1599\u001b[0m \u001b[0;34m\u001b[0m\u001b[0m\n\u001b[1;32m   1600\u001b[0m     def evaluate(self, x, y,\n",
      "\u001b[0;32m~/Applications/anaconda3/envs/carnd-term1/lib/python3.5/site-packages/keras/engine/training.py\u001b[0m in \u001b[0;36m_fit_loop\u001b[0;34m(self, f, ins, out_labels, batch_size, epochs, verbose, callbacks, val_f, val_ins, shuffle, callback_metrics, initial_epoch, steps_per_epoch, validation_steps)\u001b[0m\n\u001b[1;32m   1181\u001b[0m                     \u001b[0mbatch_logs\u001b[0m\u001b[0;34m[\u001b[0m\u001b[0;34m'size'\u001b[0m\u001b[0;34m]\u001b[0m \u001b[0;34m=\u001b[0m \u001b[0mlen\u001b[0m\u001b[0;34m(\u001b[0m\u001b[0mbatch_ids\u001b[0m\u001b[0;34m)\u001b[0m\u001b[0;34m\u001b[0m\u001b[0m\n\u001b[1;32m   1182\u001b[0m                     \u001b[0mcallbacks\u001b[0m\u001b[0;34m.\u001b[0m\u001b[0mon_batch_begin\u001b[0m\u001b[0;34m(\u001b[0m\u001b[0mbatch_index\u001b[0m\u001b[0;34m,\u001b[0m \u001b[0mbatch_logs\u001b[0m\u001b[0;34m)\u001b[0m\u001b[0;34m\u001b[0m\u001b[0m\n\u001b[0;32m-> 1183\u001b[0;31m                     \u001b[0mouts\u001b[0m \u001b[0;34m=\u001b[0m \u001b[0mf\u001b[0m\u001b[0;34m(\u001b[0m\u001b[0mins_batch\u001b[0m\u001b[0;34m)\u001b[0m\u001b[0;34m\u001b[0m\u001b[0m\n\u001b[0m\u001b[1;32m   1184\u001b[0m                     \u001b[0;32mif\u001b[0m \u001b[0;32mnot\u001b[0m \u001b[0misinstance\u001b[0m\u001b[0;34m(\u001b[0m\u001b[0mouts\u001b[0m\u001b[0;34m,\u001b[0m \u001b[0mlist\u001b[0m\u001b[0;34m)\u001b[0m\u001b[0;34m:\u001b[0m\u001b[0;34m\u001b[0m\u001b[0m\n\u001b[1;32m   1185\u001b[0m                         \u001b[0mouts\u001b[0m \u001b[0;34m=\u001b[0m \u001b[0;34m[\u001b[0m\u001b[0mouts\u001b[0m\u001b[0;34m]\u001b[0m\u001b[0;34m\u001b[0m\u001b[0m\n",
      "\u001b[0;32m~/Applications/anaconda3/envs/carnd-term1/lib/python3.5/site-packages/keras/backend/tensorflow_backend.py\u001b[0m in \u001b[0;36m__call__\u001b[0;34m(self, inputs)\u001b[0m\n\u001b[1;32m   2271\u001b[0m         updated = session.run(self.outputs + [self.updates_op],\n\u001b[1;32m   2272\u001b[0m                               \u001b[0mfeed_dict\u001b[0m\u001b[0;34m=\u001b[0m\u001b[0mfeed_dict\u001b[0m\u001b[0;34m,\u001b[0m\u001b[0;34m\u001b[0m\u001b[0m\n\u001b[0;32m-> 2273\u001b[0;31m                               **self.session_kwargs)\n\u001b[0m\u001b[1;32m   2274\u001b[0m         \u001b[0;32mreturn\u001b[0m \u001b[0mupdated\u001b[0m\u001b[0;34m[\u001b[0m\u001b[0;34m:\u001b[0m\u001b[0mlen\u001b[0m\u001b[0;34m(\u001b[0m\u001b[0mself\u001b[0m\u001b[0;34m.\u001b[0m\u001b[0moutputs\u001b[0m\u001b[0;34m)\u001b[0m\u001b[0;34m]\u001b[0m\u001b[0;34m\u001b[0m\u001b[0m\n\u001b[1;32m   2275\u001b[0m \u001b[0;34m\u001b[0m\u001b[0m\n",
      "\u001b[0;32m~/Applications/anaconda3/envs/carnd-term1/lib/python3.5/site-packages/tensorflow/python/client/session.py\u001b[0m in \u001b[0;36mrun\u001b[0;34m(self, fetches, feed_dict, options, run_metadata)\u001b[0m\n\u001b[1;32m    776\u001b[0m     \u001b[0;32mtry\u001b[0m\u001b[0;34m:\u001b[0m\u001b[0;34m\u001b[0m\u001b[0m\n\u001b[1;32m    777\u001b[0m       result = self._run(None, fetches, feed_dict, options_ptr,\n\u001b[0;32m--> 778\u001b[0;31m                          run_metadata_ptr)\n\u001b[0m\u001b[1;32m    779\u001b[0m       \u001b[0;32mif\u001b[0m \u001b[0mrun_metadata\u001b[0m\u001b[0;34m:\u001b[0m\u001b[0;34m\u001b[0m\u001b[0m\n\u001b[1;32m    780\u001b[0m         \u001b[0mproto_data\u001b[0m \u001b[0;34m=\u001b[0m \u001b[0mtf_session\u001b[0m\u001b[0;34m.\u001b[0m\u001b[0mTF_GetBuffer\u001b[0m\u001b[0;34m(\u001b[0m\u001b[0mrun_metadata_ptr\u001b[0m\u001b[0;34m)\u001b[0m\u001b[0;34m\u001b[0m\u001b[0m\n",
      "\u001b[0;32m~/Applications/anaconda3/envs/carnd-term1/lib/python3.5/site-packages/tensorflow/python/client/session.py\u001b[0m in \u001b[0;36m_run\u001b[0;34m(self, handle, fetches, feed_dict, options, run_metadata)\u001b[0m\n\u001b[1;32m    980\u001b[0m     \u001b[0;32mif\u001b[0m \u001b[0mfinal_fetches\u001b[0m \u001b[0;32mor\u001b[0m \u001b[0mfinal_targets\u001b[0m\u001b[0;34m:\u001b[0m\u001b[0;34m\u001b[0m\u001b[0m\n\u001b[1;32m    981\u001b[0m       results = self._do_run(handle, final_targets, final_fetches,\n\u001b[0;32m--> 982\u001b[0;31m                              feed_dict_string, options, run_metadata)\n\u001b[0m\u001b[1;32m    983\u001b[0m     \u001b[0;32melse\u001b[0m\u001b[0;34m:\u001b[0m\u001b[0;34m\u001b[0m\u001b[0m\n\u001b[1;32m    984\u001b[0m       \u001b[0mresults\u001b[0m \u001b[0;34m=\u001b[0m \u001b[0;34m[\u001b[0m\u001b[0;34m]\u001b[0m\u001b[0;34m\u001b[0m\u001b[0m\n",
      "\u001b[0;32m~/Applications/anaconda3/envs/carnd-term1/lib/python3.5/site-packages/tensorflow/python/client/session.py\u001b[0m in \u001b[0;36m_do_run\u001b[0;34m(self, handle, target_list, fetch_list, feed_dict, options, run_metadata)\u001b[0m\n\u001b[1;32m   1030\u001b[0m     \u001b[0;32mif\u001b[0m \u001b[0mhandle\u001b[0m \u001b[0;32mis\u001b[0m \u001b[0;32mNone\u001b[0m\u001b[0;34m:\u001b[0m\u001b[0;34m\u001b[0m\u001b[0m\n\u001b[1;32m   1031\u001b[0m       return self._do_call(_run_fn, self._session, feed_dict, fetch_list,\n\u001b[0;32m-> 1032\u001b[0;31m                            target_list, options, run_metadata)\n\u001b[0m\u001b[1;32m   1033\u001b[0m     \u001b[0;32melse\u001b[0m\u001b[0;34m:\u001b[0m\u001b[0;34m\u001b[0m\u001b[0m\n\u001b[1;32m   1034\u001b[0m       return self._do_call(_prun_fn, self._session, handle, feed_dict,\n",
      "\u001b[0;32m~/Applications/anaconda3/envs/carnd-term1/lib/python3.5/site-packages/tensorflow/python/client/session.py\u001b[0m in \u001b[0;36m_do_call\u001b[0;34m(self, fn, *args)\u001b[0m\n\u001b[1;32m   1037\u001b[0m   \u001b[0;32mdef\u001b[0m \u001b[0m_do_call\u001b[0m\u001b[0;34m(\u001b[0m\u001b[0mself\u001b[0m\u001b[0;34m,\u001b[0m \u001b[0mfn\u001b[0m\u001b[0;34m,\u001b[0m \u001b[0;34m*\u001b[0m\u001b[0margs\u001b[0m\u001b[0;34m)\u001b[0m\u001b[0;34m:\u001b[0m\u001b[0;34m\u001b[0m\u001b[0m\n\u001b[1;32m   1038\u001b[0m     \u001b[0;32mtry\u001b[0m\u001b[0;34m:\u001b[0m\u001b[0;34m\u001b[0m\u001b[0m\n\u001b[0;32m-> 1039\u001b[0;31m       \u001b[0;32mreturn\u001b[0m \u001b[0mfn\u001b[0m\u001b[0;34m(\u001b[0m\u001b[0;34m*\u001b[0m\u001b[0margs\u001b[0m\u001b[0;34m)\u001b[0m\u001b[0;34m\u001b[0m\u001b[0m\n\u001b[0m\u001b[1;32m   1040\u001b[0m     \u001b[0;32mexcept\u001b[0m \u001b[0merrors\u001b[0m\u001b[0;34m.\u001b[0m\u001b[0mOpError\u001b[0m \u001b[0;32mas\u001b[0m \u001b[0me\u001b[0m\u001b[0;34m:\u001b[0m\u001b[0;34m\u001b[0m\u001b[0m\n\u001b[1;32m   1041\u001b[0m       \u001b[0mmessage\u001b[0m \u001b[0;34m=\u001b[0m \u001b[0mcompat\u001b[0m\u001b[0;34m.\u001b[0m\u001b[0mas_text\u001b[0m\u001b[0;34m(\u001b[0m\u001b[0me\u001b[0m\u001b[0;34m.\u001b[0m\u001b[0mmessage\u001b[0m\u001b[0;34m)\u001b[0m\u001b[0;34m\u001b[0m\u001b[0m\n",
      "\u001b[0;32m~/Applications/anaconda3/envs/carnd-term1/lib/python3.5/site-packages/tensorflow/python/client/session.py\u001b[0m in \u001b[0;36m_run_fn\u001b[0;34m(session, feed_dict, fetch_list, target_list, options, run_metadata)\u001b[0m\n\u001b[1;32m   1019\u001b[0m         return tf_session.TF_Run(session, options,\n\u001b[1;32m   1020\u001b[0m                                  \u001b[0mfeed_dict\u001b[0m\u001b[0;34m,\u001b[0m \u001b[0mfetch_list\u001b[0m\u001b[0;34m,\u001b[0m \u001b[0mtarget_list\u001b[0m\u001b[0;34m,\u001b[0m\u001b[0;34m\u001b[0m\u001b[0m\n\u001b[0;32m-> 1021\u001b[0;31m                                  status, run_metadata)\n\u001b[0m\u001b[1;32m   1022\u001b[0m \u001b[0;34m\u001b[0m\u001b[0m\n\u001b[1;32m   1023\u001b[0m     \u001b[0;32mdef\u001b[0m \u001b[0m_prun_fn\u001b[0m\u001b[0;34m(\u001b[0m\u001b[0msession\u001b[0m\u001b[0;34m,\u001b[0m \u001b[0mhandle\u001b[0m\u001b[0;34m,\u001b[0m \u001b[0mfeed_dict\u001b[0m\u001b[0;34m,\u001b[0m \u001b[0mfetch_list\u001b[0m\u001b[0;34m)\u001b[0m\u001b[0;34m:\u001b[0m\u001b[0;34m\u001b[0m\u001b[0m\n",
      "\u001b[0;31mKeyboardInterrupt\u001b[0m: "
     ]
    }
   ],
   "source": [
    "model.fit(X_train, y_train, epochs=50, batch_size=256, \n",
    "          validation_data=(X_valid, y_valid))"
   ]
  },
  {
   "cell_type": "code",
   "execution_count": null,
   "metadata": {
    "collapsed": true
   },
   "outputs": [],
   "source": []
  }
 ],
 "metadata": {
  "kernelspec": {
   "display_name": "Python 3",
   "language": "python",
   "name": "python3"
  },
  "language_info": {
   "codemirror_mode": {
    "name": "ipython",
    "version": 3
   },
   "file_extension": ".py",
   "mimetype": "text/x-python",
   "name": "python",
   "nbconvert_exporter": "python",
   "pygments_lexer": "ipython3",
   "version": "3.5.2"
  },
  "widgets": {
   "state": {},
   "version": "1.1.2"
  }
 },
 "nbformat": 4,
 "nbformat_minor": 2
}
